{
  "nbformat": 4,
  "nbformat_minor": 0,
  "metadata": {
    "colab": {
      "provenance": [],
      "authorship_tag": "ABX9TyPfycDwdQBWdRNHsXsOiBY/",
      "include_colab_link": true
    },
    "kernelspec": {
      "name": "python3",
      "display_name": "Python 3"
    },
    "language_info": {
      "name": "python"
    }
  },
  "cells": [
    {
      "cell_type": "markdown",
      "metadata": {
        "id": "view-in-github",
        "colab_type": "text"
      },
      "source": [
        "<a href=\"https://colab.research.google.com/github/hn-iiitd/ML_Project/blob/harsh_hingorani/ML_proj.ipynb\" target=\"_parent\"><img src=\"https://colab.research.google.com/assets/colab-badge.svg\" alt=\"Open In Colab\"/></a>"
      ]
    },
    {
      "cell_type": "code",
      "source": [
        "import numpy as np\n",
        "import pandas as pd\n",
        "import matplotlib.pyplot as plt\n",
        "from sklearn.model_selection import train_test_split\n",
        "from sklearn.preprocessing import OneHotEncoder, MinMaxScaler\n",
        "from sklearn.linear_model import LogisticRegression\n",
        "from sklearn.tree import DecisionTreeClassifier\n",
        "from sklearn.metrics import accuracy_score, classification_report, confusion_matrix\n",
        "from sklearn.model_selection import cross_val_score\n",
        "\n",
        "dataset = pd.read_csv(\"/content/online_gaming_behavior_data.csv\")\n",
        "\n",
        "y = dataset[\"InGamePurchases\"].values\n",
        "X = dataset.drop(columns='InGamePurchases')\n",
        "\n",
        "# Applying one-hot encoding to categorical features\n",
        "categorical_columns = ['Gender', 'Location', 'GameGenre', 'GameDifficulty', 'EngagementLevel']\n",
        "X_encoded = pd.get_dummies(X, columns=categorical_columns)\n",
        "\n",
        "# Applying Min-Max scaling to numeric features\n",
        "numeric_columns = ['Age', 'PlayTimeHours', 'SessionsPerWeek', 'AvgSessionDurationMinutes', 'PlayerLevel', 'AchievementsUnlocked']\n",
        "scaler = MinMaxScaler()\n",
        "X_encoded[numeric_columns] = scaler.fit_transform(X_encoded[numeric_columns])\n",
        "\n",
        "# Making the feature vector\n",
        "X = X_encoded.values\n",
        "\n",
        "# Split the dataset into training and testing sets\n",
        "X_train, X_test, y_train, y_test = train_test_split(X, y, test_size=0.2, random_state=42)\n",
        "\n",
        "# Logistic Regression Model\n",
        "log_reg = LogisticRegression(C=0.001, solver='lbfgs', max_iter=10000)\n",
        "log_reg.fit(X_train, y_train)\n",
        "\n",
        "# Decision Tree Model\n",
        "decision_tree = DecisionTreeClassifier(criterion='entropy', max_depth=10, min_samples_split=10, min_samples_leaf=2, random_state=42)\n",
        "decision_tree.fit(X_train, y_train)\n",
        "\n",
        "# Performance of Logistic Regression\n",
        "y_pred_log_reg = log_reg.predict(X_test)\n",
        "log_reg_accuracy = accuracy_score(y_test, y_pred_log_reg)\n",
        "\n",
        "# Performance of Decision Tree\n",
        "y_pred_dec_tree = decision_tree.predict(X_test)\n",
        "dec_tree_accuracy = accuracy_score(y_test, y_pred_dec_tree)\n",
        "\n",
        "# Results for Logistic Regression $ Decision Tree\n",
        "print(\"Logistic Regression Accuracy:\", log_reg_accuracy)\n",
        "print(\"\\nDecision Tree Accuracy:\", dec_tree_accuracy)\n",
        "\n",
        "# Results for Cross-validation accuracy\n",
        "scores = cross_val_score(log_reg, X_train, y_train, cv=10)\n",
        "print(f\"Cross-validated accuracy: {scores.mean():.2f}\")\n",
        "\n"
      ],
      "metadata": {
        "colab": {
          "base_uri": "https://localhost:8080/"
        },
        "id": "0rjIL6yY-Rrh",
        "outputId": "149f32e8-fdd2-411b-b7e3-000b1fde177f"
      },
      "execution_count": null,
      "outputs": [
        {
          "output_type": "stream",
          "name": "stdout",
          "text": [
            "Logistic Regression Accuracy: 0.7964281253902835\n",
            "\n",
            "Decision Tree Accuracy: 0.7923067316098414\n",
            "Cross-validated accuracy: 0.80\n"
          ]
        }
      ]
    },
    {
      "cell_type": "code",
      "source": [
        "import numpy as np\n",
        "import pandas as pd\n",
        "import matplotlib.pyplot as plt\n",
        "from sklearn.model_selection import train_test_split\n",
        "from sklearn.preprocessing import OneHotEncoder, MinMaxScaler\n",
        "from sklearn.linear_model import LogisticRegression\n",
        "from sklearn.tree import DecisionTreeClassifier\n",
        "from sklearn.metrics import accuracy_score, classification_report, confusion_matrix\n",
        "from sklearn.model_selection import cross_val_score\n",
        "from imblearn.over_sampling import SMOTE\n",
        "\n",
        "# Load dataset\n",
        "dataset = pd.read_csv(\"/content/online_gaming_behavior_data.csv\")\n",
        "\n",
        "# Define target variable and features\n",
        "y = dataset[\"InGamePurchases\"].values\n",
        "X = dataset.drop(columns='InGamePurchases')\n",
        "\n",
        "# One-hot encoding of categorical features\n",
        "categorical_columns = ['Gender', 'Location', 'GameGenre', 'GameDifficulty', 'EngagementLevel']\n",
        "X_encoded = pd.get_dummies(X, columns=categorical_columns)\n",
        "\n",
        "# Min-Max scaling of numeric features\n",
        "numeric_columns = ['Age', 'PlayTimeHours', 'SessionsPerWeek', 'AvgSessionDurationMinutes', 'PlayerLevel', 'AchievementsUnlocked']\n",
        "scaler = MinMaxScaler()\n",
        "X_encoded[numeric_columns] = scaler.fit_transform(X_encoded[numeric_columns])\n",
        "\n",
        "# Convert to numpy array\n",
        "X = X_encoded.values\n",
        "\n",
        "# Apply SMOTE to handle class imbalance\n",
        "smote = SMOTE(random_state=42)\n",
        "X_resampled, y_resampled = smote.fit_resample(X, y)\n",
        "\n",
        "# Split the dataset into training and testing sets\n",
        "X_train, X_test, y_train, y_test = train_test_split(X_resampled, y_resampled, test_size=0.2, random_state=42)\n",
        "\n",
        "# Logistic Regression with class weighting\n",
        "log_reg = LogisticRegression(C=0.001, solver='lbfgs', max_iter=10000)\n",
        "log_reg.fit(X_train, y_train)\n",
        "\n",
        "# Decision Tree with class weighting\n",
        "decision_tree = DecisionTreeClassifier(criterion='entropy', max_depth=10, min_samples_split=10, min_samples_leaf=2, random_state=42)\n",
        "decision_tree.fit(X_train, y_train)\n",
        "\n",
        "# Performance of Logistic Regression\n",
        "y_pred_log_reg = log_reg.predict(X_test)\n",
        "log_reg_accuracy = accuracy_score(y_test, y_pred_log_reg)\n",
        "\n",
        "# Performance of Decision Tree\n",
        "y_pred_dec_tree = decision_tree.predict(X_test)\n",
        "dec_tree_accuracy = accuracy_score(y_test, y_pred_dec_tree)\n",
        "\n",
        "# Results\n",
        "print(\"Logistic Regression Accuracy:\", log_reg_accuracy)\n",
        "print(\"\\nDecision Tree Accuracy:\", dec_tree_accuracy)\n",
        "\n",
        "# Cross-validation accuracy\n",
        "scores = cross_val_score(log_reg, X_train, y_train, cv=10)\n",
        "print(f\"Cross-validated accuracy (Logistic Regression): {scores.mean():.2f}\")\n"
      ],
      "metadata": {
        "colab": {
          "base_uri": "https://localhost:8080/"
        },
        "id": "c1D7ebhecDs7",
        "outputId": "99271415-8be2-40f7-cf53-af6deeede411"
      },
      "execution_count": null,
      "outputs": [
        {
          "output_type": "stream",
          "name": "stdout",
          "text": [
            "Logistic Regression Accuracy: 0.5085169557743398\n",
            "\n",
            "Decision Tree Accuracy: 0.8598999843725582\n",
            "Cross-validated accuracy (Logistic Regression): 0.51\n"
          ]
        }
      ]
    }
  ]
}